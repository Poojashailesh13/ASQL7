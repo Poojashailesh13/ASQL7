{
 "cells": [
  {
   "cell_type": "raw",
   "id": "97e0c496",
   "metadata": {},
   "source": [
    "Q-13. Write an SQL query to show only odd rows from a table.\n",
    "ans- SELECT EmpID FROM (SELECT rowno, EmpID from EmployeeInfo) WHERE MOD(rowno,2)=1;\n"
   ]
  },
  {
   "cell_type": "raw",
   "id": "4efcb9ca",
   "metadata": {},
   "source": [
    "Q-14. Write an SQL query to clone a new table from another table.\n",
    "ans- CREATE TABLE employees_clone LIKE employees;     OR   INSERT INTO employees_clone SELECT * FROM employees;\n"
   ]
  }
 ],
 "metadata": {
  "kernelspec": {
   "display_name": "Python 3 (ipykernel)",
   "language": "python",
   "name": "python3"
  },
  "language_info": {
   "codemirror_mode": {
    "name": "ipython",
    "version": 3
   },
   "file_extension": ".py",
   "mimetype": "text/x-python",
   "name": "python",
   "nbconvert_exporter": "python",
   "pygments_lexer": "ipython3",
   "version": "3.9.7"
  }
 },
 "nbformat": 4,
 "nbformat_minor": 5
}
